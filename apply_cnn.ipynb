{
 "cells": [
  {
   "cell_type": "markdown",
   "metadata": {},
   "source": [
    "A notebook version of the script Amanda wrote.\n",
    "\n",
    "Seems to only work when loaded version of the kernel is the `~/src/mambaforge` one."
   ]
  },
  {
   "cell_type": "code",
   "execution_count": 1,
   "metadata": {},
   "outputs": [
    {
     "name": "stderr",
     "output_type": "stream",
     "text": [
      "2024-01-19 12:13:35.168224: E tensorflow/compiler/xla/stream_executor/cuda/cuda_dnn.cc:9342] Unable to register cuDNN factory: Attempting to register factory for plugin cuDNN when one has already been registered\n",
      "2024-01-19 12:13:35.168260: E tensorflow/compiler/xla/stream_executor/cuda/cuda_fft.cc:609] Unable to register cuFFT factory: Attempting to register factory for plugin cuFFT when one has already been registered\n",
      "2024-01-19 12:13:35.168286: E tensorflow/compiler/xla/stream_executor/cuda/cuda_blas.cc:1518] Unable to register cuBLAS factory: Attempting to register factory for plugin cuBLAS when one has already been registered\n",
      "2024-01-19 12:13:35.176074: I tensorflow/core/platform/cpu_feature_guard.cc:182] This TensorFlow binary is optimized to use available CPU instructions in performance-critical operations.\n",
      "To enable the following instructions: SSE4.1 SSE4.2 AVX AVX2 AVX512F FMA, in other operations, rebuild TensorFlow with the appropriate compiler flags.\n"
     ]
    }
   ],
   "source": [
    "# Imports\n",
    "from obspy.core import read, Stream\n",
    "import numpy as np\n",
    "import matplotlib.pyplot as plt\n",
    "import lfe_unet_tools\n",
    "from scipy.signal import find_peaks\n",
    "import pickle\n",
    "import datetime"
   ]
  },
  {
   "cell_type": "code",
   "execution_count": 2,
   "metadata": {},
   "outputs": [],
   "source": [
    "# A function to normalize data and convert to CNN input format\n",
    "def ZEN2inp(Z,E,N,epsilon):\n",
    "    '''\n",
    "    Apply feature normalizations to raw timeseries and convert\n",
    "    to CNN input format\n",
    "\n",
    "    Parameters:\n",
    "        Z (float array): The vertical component data.\n",
    "        E (float array): The east component data.\n",
    "        N (float array): The north component data.\n",
    "        epsilon (float): constant value added to input data to avoid zeros.\n",
    "\n",
    "    Returns:\n",
    "        data_inp (float array): CNN input\n",
    "    '''\n",
    "    data_Z_sign = np.sign(Z)\n",
    "    data_E_sign = np.sign(E)\n",
    "    data_N_sign = np.sign(N)\n",
    "    data_Z_val = np.log(np.abs(Z)+epsilon)\n",
    "    data_E_val = np.log(np.abs(E)+epsilon)\n",
    "    data_N_val = np.log(np.abs(N)+epsilon)\n",
    "    data_inp = np.hstack([data_Z_val.reshape(-1,1),data_Z_sign.reshape(-1,1),\n",
    "                          data_E_val.reshape(-1,1),data_E_sign.reshape(-1,1),\n",
    "                          data_N_val.reshape(-1,1),data_N_sign.reshape(-1,1),])\n",
    "    return data_inp"
   ]
  },
  {
   "cell_type": "code",
   "execution_count": 3,
   "metadata": {},
   "outputs": [
    {
     "name": "stdout",
     "output_type": "stream",
     "text": [
      "Building the model...\n"
     ]
    },
    {
     "name": "stderr",
     "output_type": "stream",
     "text": [
      "2024-01-19 12:13:38.120457: I tensorflow/core/common_runtime/gpu/gpu_device.cc:1886] Created device /job:localhost/replica:0/task:0/device:GPU:0 with 9580 MB memory:  -> device: 0, name: NVIDIA GeForce RTX 2080 Ti, pci bus id: 0000:65:00.0, compute capability: 7.5\n",
      "WARNING:absl:`lr` is deprecated in Keras optimizer, please use `learning_rate` or use the legacy optimizer, e.g.,tf.keras.optimizers.legacy.Adam.\n"
     ]
    },
    {
     "name": "stdout",
     "output_type": "stream",
     "text": [
      "Model: \"model\"\n",
      "__________________________________________________________________________________________________\n",
      " Layer (type)                Output Shape                 Param #   Connected to                  \n",
      "==================================================================================================\n",
      " input_1 (InputLayer)        [(None, 1500, 6)]            0         []                            \n",
      "                                                                                                  \n",
      " conv1d (Conv1D)             (None, 1500, 16)             2032      ['input_1[0][0]']             \n",
      "                                                                                                  \n",
      " max_pooling1d (MaxPooling1  (None, 750, 16)              0         ['conv1d[0][0]']              \n",
      " D)                                                                                               \n",
      "                                                                                                  \n",
      " conv1d_1 (Conv1D)           (None, 750, 32)              7712      ['max_pooling1d[0][0]']       \n",
      "                                                                                                  \n",
      " max_pooling1d_1 (MaxPoolin  (None, 375, 32)              0         ['conv1d_1[0][0]']            \n",
      " g1D)                                                                                             \n",
      "                                                                                                  \n",
      " zero_padding1d (ZeroPaddin  (None, 376, 32)              0         ['max_pooling1d_1[0][0]']     \n",
      " g1D)                                                                                             \n",
      "                                                                                                  \n",
      " conv1d_2 (Conv1D)           (None, 376, 64)              22592     ['zero_padding1d[0][0]']      \n",
      "                                                                                                  \n",
      " max_pooling1d_2 (MaxPoolin  (None, 188, 64)              0         ['conv1d_2[0][0]']            \n",
      " g1D)                                                                                             \n",
      "                                                                                                  \n",
      " flatten (Flatten)           (None, 12032)                0         ['max_pooling1d_2[0][0]']     \n",
      "                                                                                                  \n",
      " dense (Dense)               (None, 188)                  2262204   ['flatten[0][0]']             \n",
      "                                                                                                  \n",
      " reshape (Reshape)           (None, 188, 1)               0         ['dense[0][0]']               \n",
      "                                                                                                  \n",
      " conv1d_3 (Conv1D)           (None, 188, 64)              768       ['reshape[0][0]']             \n",
      "                                                                                                  \n",
      " up_sampling1d (UpSampling1  (None, 376, 64)              0         ['conv1d_3[0][0]']            \n",
      " D)                                                                                               \n",
      "                                                                                                  \n",
      " concatenate (Concatenate)   (None, 376, 128)             0         ['up_sampling1d[0][0]',       \n",
      "                                                                     'conv1d_2[0][0]']            \n",
      "                                                                                                  \n",
      " lambda (Lambda)             (None, 375, 128)             0         ['concatenate[0][0]']         \n",
      "                                                                                                  \n",
      " conv1d_4 (Conv1D)           (None, 375, 32)              61472     ['lambda[0][0]']              \n",
      "                                                                                                  \n",
      " up_sampling1d_1 (UpSamplin  (None, 750, 32)              0         ['conv1d_4[0][0]']            \n",
      " g1D)                                                                                             \n",
      "                                                                                                  \n",
      " concatenate_1 (Concatenate  (None, 750, 64)              0         ['up_sampling1d_1[0][0]',     \n",
      " )                                                                   'conv1d_1[0][0]']            \n",
      "                                                                                                  \n",
      " conv1d_5 (Conv1D)           (None, 750, 16)              21520     ['concatenate_1[0][0]']       \n",
      "                                                                                                  \n",
      " up_sampling1d_2 (UpSamplin  (None, 1500, 16)             0         ['conv1d_5[0][0]']            \n",
      " g1D)                                                                                             \n",
      "                                                                                                  \n",
      " concatenate_2 (Concatenate  (None, 1500, 32)             0         ['up_sampling1d_2[0][0]',     \n",
      " )                                                                   'conv1d[0][0]']              \n",
      "                                                                                                  \n",
      " conv1d_6 (Conv1D)           (None, 1500, 1)              673       ['concatenate_2[0][0]']       \n",
      "                                                                                                  \n",
      " flatten_1 (Flatten)         (None, 1500)                 0         ['conv1d_6[0][0]']            \n",
      "                                                                                                  \n",
      "==================================================================================================\n",
      "Total params: 2378973 (9.08 MB)\n",
      "Trainable params: 2378973 (9.08 MB)\n",
      "Non-trainable params: 0 (0.00 Byte)\n",
      "__________________________________________________________________________________________________\n",
      "Loading training results from large_0.5_unet_lfe_std_0.2.tf\n"
     ]
    },
    {
     "data": {
      "text/plain": [
       "<tensorflow.python.checkpoint.checkpoint.CheckpointLoadStatus at 0x7ff0a01157c0>"
      ]
     },
     "execution_count": 3,
     "metadata": {},
     "output_type": "execute_result"
    }
   ],
   "source": [
    "# Set up model\n",
    "# --> Parameters you can modify\n",
    "thresh = 0.1  # minimum decision threshold to log detections\n",
    "shift = 15  # time window step size in seconds\n",
    "drop = 0 # drop layer, 1 if you want to include, 0 if not\n",
    "large = 0.5  # model size (can be 0.5, 1, 2)\n",
    "std = 0.2  # how wide do you want the gaussian STD to be in seconds?\n",
    "plots = 1 # do you want plots?\n",
    "\n",
    "# --> Parameters you should not modify\n",
    "sr = 100. # sample rate in Hz, network was trained on 100Hz data so best keep this as is\n",
    "winlen = 15.  # window length in seconds\n",
    "nwin = int(sr*winlen)  # number of windows\n",
    "nshift = int(sr*shift)  # number of samples to shift window\n",
    "epsilon = 1e-6  # normalization parameter\n",
    "\n",
    "# --> Build model\n",
    "model_save_file=\"large_\"+'{:3.1f}'.format(large)+\"_unet_lfe_std_\"+str(std)+\".tf\"\n",
    "\n",
    "if drop:\n",
    "    model_save_file=\"drop_\"+model_save_file\n",
    "\n",
    "print(\"Building the model...\")\n",
    "if drop:\n",
    "    model=lfe_unet_tools.make_large_unet_drop(large,sr,ncomps=3)\n",
    "else:\n",
    "    model=lfe_unet_tools.make_large_unet(large,sr,ncomps=3)\n",
    "\n",
    "# --> Load model parameters\n",
    "print('Loading training results from '+model_save_file)\n",
    "model.load_weights(\"./models_v2/\"+model_save_file)"
   ]
  },
  {
   "cell_type": "code",
   "execution_count": 4,
   "metadata": {},
   "outputs": [
    {
     "name": "stdout",
     "output_type": "stream",
     "text": [
      "THIS 5\n"
     ]
    }
   ],
   "source": [
    "# Load data\n",
    "day = 5\n",
    "stations = ['40','B079','THIS']  # available stations in Amandas example\n",
    "ii_sta = 2\n",
    "sta = stations[ii_sta]\n",
    "\n",
    "print(sta+' '+str(day))\n",
    "st = Stream()\n",
    "if sta=='40':\n",
    "    st=read(\"data/1B.40..DPZ.2018-08-0\"+str(day)+\"-00-00-00.ms\")\n",
    "    st+=read(\"data/1B.40..DP1.2018-08-0\"+str(day)+\"-00-00-00.ms\")\n",
    "    st+=read(\"data/1B.40..DP2.2018-08-0\"+str(day)+\"-00-00-00.ms\")\n",
    "elif sta==\"THIS\":\n",
    "    st+=read(\"data/2018-08-0\"+str(day)+\".BK.\"+sta+\".HHZ.ms\")\n",
    "    st+=read(\"data/2018-08-0\"+str(day)+\".BK.\"+sta+\".HHE.ms\")\n",
    "    st+=read(\"data/2018-08-0\"+str(day)+\".BK.\"+sta+\".HHN.ms\")\n",
    "elif sta==\"B079\":\n",
    "    st+=read(\"data/2018-08-0\"+str(day)+\".PB.\"+sta+\".EHZ.ms\")\n",
    "    st+=read(\"data/2018-08-0\"+str(day)+\".PB.\"+sta+\".EH1.ms\")\n",
    "    st+=read(\"data/2018-08-0\"+str(day)+\".PB.\"+sta+\".EH2.ms\")"
   ]
  },
  {
   "cell_type": "code",
   "execution_count": 5,
   "metadata": {},
   "outputs": [
    {
     "name": "stdout",
     "output_type": "stream",
     "text": [
      "2018-08-05T00:00:00.000000Z 2018-08-05T23:59:59.990000Z\n"
     ]
    }
   ],
   "source": [
    "# Preprocess data\n",
    "# --> Filter\n",
    "st.detrend(type='simple')\n",
    "st.filter(\"highpass\", freq=1.0, zerophase=True)\n",
    "\n",
    "# --> Enforce components to have the same start/end times\n",
    "start = st[0].stats.starttime\n",
    "finish = st[0].stats.endtime\n",
    "\n",
    "print(start, finish)\n",
    "for ii in range(1, len(st)):\n",
    "    if start < st[ii].stats.starttime:\n",
    "        start = st[ii].stats.starttime\n",
    "    if finish > st[ii].stats.endtime:\n",
    "        finish = st[ii].stats.endtime\n",
    "st.trim(starttime=start, endtime=finish, nearest_sample=1, pad=1, fill_value=0)\n",
    "\n",
    "# --> Interpolate if sr is not 100 Hz\n",
    "for tr in st:\n",
    "    if sr != tr.stats.sampling_rate:\n",
    "        tr.interpolate(sampling_rate=sr, starttime=start)"
   ]
  },
  {
   "cell_type": "code",
   "execution_count": 6,
   "metadata": {},
   "outputs": [
    {
     "name": "stderr",
     "output_type": "stream",
     "text": [
      "2024-01-19 12:13:48.155968: I tensorflow/compiler/xla/stream_executor/cuda/cuda_dnn.cc:442] Loaded cuDNN version 8800\n"
     ]
    },
    {
     "name": "stdout",
     "output_type": "stream",
     "text": [
      "180/180 [==============================] - 18s 4ms/step\n"
     ]
    }
   ],
   "source": [
    "# Apply model to data\n",
    "nn = (len(st[0].data) - nwin) // nshift  # number of windows to process\n",
    "sdects = []  # intialize detection structure\n",
    "sav_data = []\n",
    "\n",
    "codestart=datetime.datetime.now()  # start timer\n",
    "\n",
    "for ii in range(nn+1):\n",
    "    data0s = lfe_unet_tools.simple_detrend(st[0].data[ii*nshift:ii*nshift+nwin])\n",
    "    data1s = lfe_unet_tools.simple_detrend(st[1].data[ii*nshift:ii*nshift+nwin])\n",
    "    data2s = lfe_unet_tools.simple_detrend(st[2].data[ii*nshift:ii*nshift+nwin])\n",
    "\n",
    "    snip = np.concatenate((data0s,data1s,data2s))\n",
    "    data_inp = ZEN2inp(data0s,data1s,data2s,epsilon)\n",
    "    sav_data.append(data_inp)  # run model prediction in batch\n",
    "sav_data = np.array(sav_data)\n",
    "\n",
    "# make s predictions\n",
    "stmp = model.predict(sav_data)\n",
    "stmp = stmp.ravel()\n",
    "spk = find_peaks(stmp, height=thresh, distance=200)\n",
    "sdects = np.hstack((spk[0].reshape(-1,1)/sr, spk[1]['peak_heights'].reshape(-1,1)))\n",
    "\n",
    "codestop = datetime.datetime.now() # stop timer"
   ]
  },
  {
   "cell_type": "code",
   "execution_count": 25,
   "metadata": {},
   "outputs": [
    {
     "data": {
      "image/png": "[encoded data removed]",
      "text/plain": [
       "<Figure size 1000x500 with 1 Axes>"
      ]
     },
     "metadata": {},
     "output_type": "display_data"
    }
   ],
   "source": [
    "plt.figure(figsize=(10,5))\n",
    "plt.plot(stmp)\n",
    "plt.plot(st[2].data/1000)\n",
    "plt.plot(spk[0],spk[1]['peak_heights'],'r.')\n",
    "plt.xlim(24810*100, 24850*100)\n",
    "plt.show()"
   ]
  },
  {
   "cell_type": "code",
   "execution_count": null,
   "metadata": {},
   "outputs": [],
   "source": []
  }
 ],
 "metadata": {
  "kernelspec": {
   "display_name": "lfe_cnn",
   "language": "python",
   "name": "python3"
  },
  "language_info": {
   "codemirror_mode": {
    "name": "ipython",
    "version": 3
   },
   "file_extension": ".py",
   "mimetype": "text/x-python",
   "name": "python",
   "nbconvert_exporter": "python",
   "pygments_lexer": "ipython3",
   "version": "3.9.18"
  }
 },
 "nbformat": 4,
 "nbformat_minor": 2
}
